{
 "cells": [
  {
   "cell_type": "markdown",
   "metadata": {},
   "source": [
    "# Codecademy project Biodiversity"
   ]
  },
  {
   "cell_type": "code",
   "execution_count": 25,
   "metadata": {},
   "outputs": [],
   "source": [
    "import pandas as pd\n",
    "import numpy as np\n",
    "import matplotlib.pyplot as plt\n",
    "import seaborn as sns"
   ]
  },
  {
   "cell_type": "code",
   "execution_count": 26,
   "metadata": {},
   "outputs": [],
   "source": [
    "obs = pd.read_csv('observations.csv')\n",
    "sp = pd.read_csv('species_info.csv')"
   ]
  },
  {
   "cell_type": "code",
   "execution_count": 27,
   "metadata": {},
   "outputs": [
    {
     "data": {
      "text/html": [
       "<div>\n",
       "<style scoped>\n",
       "    .dataframe tbody tr th:only-of-type {\n",
       "        vertical-align: middle;\n",
       "    }\n",
       "\n",
       "    .dataframe tbody tr th {\n",
       "        vertical-align: top;\n",
       "    }\n",
       "\n",
       "    .dataframe thead th {\n",
       "        text-align: right;\n",
       "    }\n",
       "</style>\n",
       "<table border=\"1\" class=\"dataframe\">\n",
       "  <thead>\n",
       "    <tr style=\"text-align: right;\">\n",
       "      <th></th>\n",
       "      <th>scientific_name</th>\n",
       "      <th>park_name</th>\n",
       "      <th>observations</th>\n",
       "    </tr>\n",
       "  </thead>\n",
       "  <tbody>\n",
       "    <tr>\n",
       "      <th>0</th>\n",
       "      <td>Vicia benghalensis</td>\n",
       "      <td>Great Smoky Mountains National Park</td>\n",
       "      <td>68</td>\n",
       "    </tr>\n",
       "    <tr>\n",
       "      <th>1</th>\n",
       "      <td>Neovison vison</td>\n",
       "      <td>Great Smoky Mountains National Park</td>\n",
       "      <td>77</td>\n",
       "    </tr>\n",
       "    <tr>\n",
       "      <th>2</th>\n",
       "      <td>Prunus subcordata</td>\n",
       "      <td>Yosemite National Park</td>\n",
       "      <td>138</td>\n",
       "    </tr>\n",
       "    <tr>\n",
       "      <th>3</th>\n",
       "      <td>Abutilon theophrasti</td>\n",
       "      <td>Bryce National Park</td>\n",
       "      <td>84</td>\n",
       "    </tr>\n",
       "    <tr>\n",
       "      <th>4</th>\n",
       "      <td>Githopsis specularioides</td>\n",
       "      <td>Great Smoky Mountains National Park</td>\n",
       "      <td>85</td>\n",
       "    </tr>\n",
       "  </tbody>\n",
       "</table>\n",
       "</div>"
      ],
      "text/plain": [
       "            scientific_name                            park_name  observations\n",
       "0        Vicia benghalensis  Great Smoky Mountains National Park            68\n",
       "1            Neovison vison  Great Smoky Mountains National Park            77\n",
       "2         Prunus subcordata               Yosemite National Park           138\n",
       "3      Abutilon theophrasti                  Bryce National Park            84\n",
       "4  Githopsis specularioides  Great Smoky Mountains National Park            85"
      ]
     },
     "execution_count": 27,
     "metadata": {},
     "output_type": "execute_result"
    }
   ],
   "source": [
    "obs.head()"
   ]
  },
  {
   "cell_type": "code",
   "execution_count": 28,
   "metadata": {},
   "outputs": [
    {
     "data": {
      "text/html": [
       "<div>\n",
       "<style scoped>\n",
       "    .dataframe tbody tr th:only-of-type {\n",
       "        vertical-align: middle;\n",
       "    }\n",
       "\n",
       "    .dataframe tbody tr th {\n",
       "        vertical-align: top;\n",
       "    }\n",
       "\n",
       "    .dataframe thead th {\n",
       "        text-align: right;\n",
       "    }\n",
       "</style>\n",
       "<table border=\"1\" class=\"dataframe\">\n",
       "  <thead>\n",
       "    <tr style=\"text-align: right;\">\n",
       "      <th></th>\n",
       "      <th>category</th>\n",
       "      <th>scientific_name</th>\n",
       "      <th>common_names</th>\n",
       "      <th>conservation_status</th>\n",
       "    </tr>\n",
       "  </thead>\n",
       "  <tbody>\n",
       "    <tr>\n",
       "      <th>0</th>\n",
       "      <td>Mammal</td>\n",
       "      <td>Clethrionomys gapperi gapperi</td>\n",
       "      <td>Gapper's Red-Backed Vole</td>\n",
       "      <td>NaN</td>\n",
       "    </tr>\n",
       "    <tr>\n",
       "      <th>1</th>\n",
       "      <td>Mammal</td>\n",
       "      <td>Bos bison</td>\n",
       "      <td>American Bison, Bison</td>\n",
       "      <td>NaN</td>\n",
       "    </tr>\n",
       "    <tr>\n",
       "      <th>2</th>\n",
       "      <td>Mammal</td>\n",
       "      <td>Bos taurus</td>\n",
       "      <td>Aurochs, Aurochs, Domestic Cattle (Feral), Dom...</td>\n",
       "      <td>NaN</td>\n",
       "    </tr>\n",
       "    <tr>\n",
       "      <th>3</th>\n",
       "      <td>Mammal</td>\n",
       "      <td>Ovis aries</td>\n",
       "      <td>Domestic Sheep, Mouflon, Red Sheep, Sheep (Feral)</td>\n",
       "      <td>NaN</td>\n",
       "    </tr>\n",
       "    <tr>\n",
       "      <th>4</th>\n",
       "      <td>Mammal</td>\n",
       "      <td>Cervus elaphus</td>\n",
       "      <td>Wapiti Or Elk</td>\n",
       "      <td>NaN</td>\n",
       "    </tr>\n",
       "  </tbody>\n",
       "</table>\n",
       "</div>"
      ],
      "text/plain": [
       "  category                scientific_name  \\\n",
       "0   Mammal  Clethrionomys gapperi gapperi   \n",
       "1   Mammal                      Bos bison   \n",
       "2   Mammal                     Bos taurus   \n",
       "3   Mammal                     Ovis aries   \n",
       "4   Mammal                 Cervus elaphus   \n",
       "\n",
       "                                        common_names conservation_status  \n",
       "0                           Gapper's Red-Backed Vole                 NaN  \n",
       "1                              American Bison, Bison                 NaN  \n",
       "2  Aurochs, Aurochs, Domestic Cattle (Feral), Dom...                 NaN  \n",
       "3  Domestic Sheep, Mouflon, Red Sheep, Sheep (Feral)                 NaN  \n",
       "4                                      Wapiti Or Elk                 NaN  "
      ]
     },
     "execution_count": 28,
     "metadata": {},
     "output_type": "execute_result"
    }
   ],
   "source": [
    "sp.head()"
   ]
  },
  {
   "cell_type": "code",
   "execution_count": 29,
   "metadata": {},
   "outputs": [
    {
     "name": "stdout",
     "output_type": "stream",
     "text": [
      "(23296, 3)\n",
      "(5824, 4)\n"
     ]
    }
   ],
   "source": [
    "print(obs.shape)\n",
    "print(sp.shape)"
   ]
  },
  {
   "cell_type": "code",
   "execution_count": 30,
   "metadata": {},
   "outputs": [
    {
     "name": "stdout",
     "output_type": "stream",
     "text": [
      "<class 'pandas.core.frame.DataFrame'>\n",
      "RangeIndex: 23296 entries, 0 to 23295\n",
      "Data columns (total 3 columns):\n",
      " #   Column           Non-Null Count  Dtype \n",
      "---  ------           --------------  ----- \n",
      " 0   scientific_name  23296 non-null  object\n",
      " 1   park_name        23296 non-null  object\n",
      " 2   observations     23296 non-null  int64 \n",
      "dtypes: int64(1), object(2)\n",
      "memory usage: 546.1+ KB\n",
      "None\n",
      "<class 'pandas.core.frame.DataFrame'>\n",
      "RangeIndex: 5824 entries, 0 to 5823\n",
      "Data columns (total 4 columns):\n",
      " #   Column               Non-Null Count  Dtype \n",
      "---  ------               --------------  ----- \n",
      " 0   category             5824 non-null   object\n",
      " 1   scientific_name      5824 non-null   object\n",
      " 2   common_names         5824 non-null   object\n",
      " 3   conservation_status  191 non-null    object\n",
      "dtypes: object(4)\n",
      "memory usage: 182.1+ KB\n",
      "None\n"
     ]
    }
   ],
   "source": [
    "print(obs.info())\n",
    "print(sp.info())"
   ]
  },
  {
   "cell_type": "markdown",
   "metadata": {},
   "source": [
    "### Drop duplicates"
   ]
  },
  {
   "cell_type": "code",
   "execution_count": 31,
   "metadata": {},
   "outputs": [
    {
     "data": {
      "text/html": [
       "<div>\n",
       "<style scoped>\n",
       "    .dataframe tbody tr th:only-of-type {\n",
       "        vertical-align: middle;\n",
       "    }\n",
       "\n",
       "    .dataframe tbody tr th {\n",
       "        vertical-align: top;\n",
       "    }\n",
       "\n",
       "    .dataframe thead th {\n",
       "        text-align: right;\n",
       "    }\n",
       "</style>\n",
       "<table border=\"1\" class=\"dataframe\">\n",
       "  <thead>\n",
       "    <tr style=\"text-align: right;\">\n",
       "      <th></th>\n",
       "      <th>category</th>\n",
       "      <th>scientific_name</th>\n",
       "      <th>common_names</th>\n",
       "      <th>conservation_status</th>\n",
       "    </tr>\n",
       "  </thead>\n",
       "  <tbody>\n",
       "  </tbody>\n",
       "</table>\n",
       "</div>"
      ],
      "text/plain": [
       "Empty DataFrame\n",
       "Columns: [category, scientific_name, common_names, conservation_status]\n",
       "Index: []"
      ]
     },
     "execution_count": 31,
     "metadata": {},
     "output_type": "execute_result"
    }
   ],
   "source": [
    "sp[sp.duplicated()]"
   ]
  },
  {
   "cell_type": "code",
   "execution_count": 32,
   "metadata": {},
   "outputs": [
    {
     "data": {
      "text/html": [
       "<div>\n",
       "<style scoped>\n",
       "    .dataframe tbody tr th:only-of-type {\n",
       "        vertical-align: middle;\n",
       "    }\n",
       "\n",
       "    .dataframe tbody tr th {\n",
       "        vertical-align: top;\n",
       "    }\n",
       "\n",
       "    .dataframe thead th {\n",
       "        text-align: right;\n",
       "    }\n",
       "</style>\n",
       "<table border=\"1\" class=\"dataframe\">\n",
       "  <thead>\n",
       "    <tr style=\"text-align: right;\">\n",
       "      <th></th>\n",
       "      <th>scientific_name</th>\n",
       "      <th>park_name</th>\n",
       "      <th>observations</th>\n",
       "    </tr>\n",
       "  </thead>\n",
       "  <tbody>\n",
       "    <tr>\n",
       "      <th>7263</th>\n",
       "      <td>Echinochloa crus-galli</td>\n",
       "      <td>Great Smoky Mountains National Park</td>\n",
       "      <td>62</td>\n",
       "    </tr>\n",
       "    <tr>\n",
       "      <th>8710</th>\n",
       "      <td>Streptopelia decaocto</td>\n",
       "      <td>Yellowstone National Park</td>\n",
       "      <td>255</td>\n",
       "    </tr>\n",
       "    <tr>\n",
       "      <th>10038</th>\n",
       "      <td>Plantago major</td>\n",
       "      <td>Great Smoky Mountains National Park</td>\n",
       "      <td>90</td>\n",
       "    </tr>\n",
       "    <tr>\n",
       "      <th>10674</th>\n",
       "      <td>Arctium minus</td>\n",
       "      <td>Yosemite National Park</td>\n",
       "      <td>162</td>\n",
       "    </tr>\n",
       "    <tr>\n",
       "      <th>12381</th>\n",
       "      <td>Eleocharis palustris</td>\n",
       "      <td>Great Smoky Mountains National Park</td>\n",
       "      <td>62</td>\n",
       "    </tr>\n",
       "    <tr>\n",
       "      <th>13372</th>\n",
       "      <td>Hesperis matronalis</td>\n",
       "      <td>Bryce National Park</td>\n",
       "      <td>124</td>\n",
       "    </tr>\n",
       "    <tr>\n",
       "      <th>16741</th>\n",
       "      <td>Prunella vulgaris</td>\n",
       "      <td>Great Smoky Mountains National Park</td>\n",
       "      <td>75</td>\n",
       "    </tr>\n",
       "    <tr>\n",
       "      <th>17378</th>\n",
       "      <td>Potentilla norvegica</td>\n",
       "      <td>Yosemite National Park</td>\n",
       "      <td>148</td>\n",
       "    </tr>\n",
       "    <tr>\n",
       "      <th>17577</th>\n",
       "      <td>Spilogale putorius</td>\n",
       "      <td>Yellowstone National Park</td>\n",
       "      <td>256</td>\n",
       "    </tr>\n",
       "    <tr>\n",
       "      <th>18141</th>\n",
       "      <td>Poa compressa</td>\n",
       "      <td>Great Smoky Mountains National Park</td>\n",
       "      <td>80</td>\n",
       "    </tr>\n",
       "    <tr>\n",
       "      <th>19392</th>\n",
       "      <td>Cichorium intybus</td>\n",
       "      <td>Yellowstone National Park</td>\n",
       "      <td>266</td>\n",
       "    </tr>\n",
       "    <tr>\n",
       "      <th>20294</th>\n",
       "      <td>Botrychium virginianum</td>\n",
       "      <td>Yellowstone National Park</td>\n",
       "      <td>232</td>\n",
       "    </tr>\n",
       "    <tr>\n",
       "      <th>20820</th>\n",
       "      <td>Monotropa hypopithys</td>\n",
       "      <td>Great Smoky Mountains National Park</td>\n",
       "      <td>73</td>\n",
       "    </tr>\n",
       "    <tr>\n",
       "      <th>21151</th>\n",
       "      <td>Trifolium campestre</td>\n",
       "      <td>Yellowstone National Park</td>\n",
       "      <td>239</td>\n",
       "    </tr>\n",
       "    <tr>\n",
       "      <th>22698</th>\n",
       "      <td>Salix exigua</td>\n",
       "      <td>Yosemite National Park</td>\n",
       "      <td>186</td>\n",
       "    </tr>\n",
       "  </tbody>\n",
       "</table>\n",
       "</div>"
      ],
      "text/plain": [
       "              scientific_name                            park_name  \\\n",
       "7263   Echinochloa crus-galli  Great Smoky Mountains National Park   \n",
       "8710    Streptopelia decaocto            Yellowstone National Park   \n",
       "10038          Plantago major  Great Smoky Mountains National Park   \n",
       "10674           Arctium minus               Yosemite National Park   \n",
       "12381    Eleocharis palustris  Great Smoky Mountains National Park   \n",
       "13372     Hesperis matronalis                  Bryce National Park   \n",
       "16741       Prunella vulgaris  Great Smoky Mountains National Park   \n",
       "17378    Potentilla norvegica               Yosemite National Park   \n",
       "17577      Spilogale putorius            Yellowstone National Park   \n",
       "18141           Poa compressa  Great Smoky Mountains National Park   \n",
       "19392       Cichorium intybus            Yellowstone National Park   \n",
       "20294  Botrychium virginianum            Yellowstone National Park   \n",
       "20820    Monotropa hypopithys  Great Smoky Mountains National Park   \n",
       "21151     Trifolium campestre            Yellowstone National Park   \n",
       "22698            Salix exigua               Yosemite National Park   \n",
       "\n",
       "       observations  \n",
       "7263             62  \n",
       "8710            255  \n",
       "10038            90  \n",
       "10674           162  \n",
       "12381            62  \n",
       "13372           124  \n",
       "16741            75  \n",
       "17378           148  \n",
       "17577           256  \n",
       "18141            80  \n",
       "19392           266  \n",
       "20294           232  \n",
       "20820            73  \n",
       "21151           239  \n",
       "22698           186  "
      ]
     },
     "execution_count": 32,
     "metadata": {},
     "output_type": "execute_result"
    }
   ],
   "source": [
    "obs[obs.duplicated()]"
   ]
  },
  {
   "cell_type": "code",
   "execution_count": 33,
   "metadata": {},
   "outputs": [],
   "source": [
    "obs.drop_duplicates(keep='first', inplace=True)"
   ]
  },
  {
   "cell_type": "markdown",
   "metadata": {},
   "source": [
    "### Explore categorical variables"
   ]
  },
  {
   "cell_type": "code",
   "execution_count": 34,
   "metadata": {},
   "outputs": [
    {
     "name": "stdout",
     "output_type": "stream",
     "text": [
      "park names['Great Smoky Mountains National Park' 'Yosemite National Park'\n",
      " 'Bryce National Park' 'Yellowstone National Park']\n",
      "categories['Mammal' 'Bird' 'Reptile' 'Amphibian' 'Fish' 'Vascular Plant'\n",
      " 'Nonvascular Plant']\n",
      "conservation status[nan 'Species of Concern' 'Endangered' 'Threatened' 'In Recovery']\n"
     ]
    }
   ],
   "source": [
    "print(\"park names\" + str(obs.park_name.unique()))\n",
    "print(\"categories\" + str(sp.category.unique()))\n",
    "print(\"conservation status\" + str(sp.conservation_status.unique()))"
   ]
  },
  {
   "cell_type": "code",
   "execution_count": 35,
   "metadata": {},
   "outputs": [
    {
     "name": "stdout",
     "output_type": "stream",
     "text": [
      "conservation status['no_status' 'Species of Concern' 'Endangered' 'Threatened' 'In Recovery']\n"
     ]
    }
   ],
   "source": [
    "sp.conservation_status.fillna('no_status', inplace=True)\n",
    "print(\"conservation status\" + str(sp.conservation_status.unique()))"
   ]
  },
  {
   "cell_type": "code",
   "execution_count": 36,
   "metadata": {},
   "outputs": [
    {
     "data": {
      "text/plain": [
       "<AxesSubplot:title={'center':' Histogram of the conservation status'}, xlabel='conservation_status', ylabel='frequency'>"
      ]
     },
     "execution_count": 36,
     "metadata": {},
     "output_type": "execute_result"
    },
    {
     "data": {
      "image/png": "[encoded data removed]",
      "text/plain": [
       "<Figure size 720x360 with 1 Axes>"
      ]
     },
     "metadata": {
      "needs_background": "light"
     },
     "output_type": "display_data"
    }
   ],
   "source": [
    "plt.figure(figsize=(10,5))\n",
    "plt.xlabel('conservation_status')\n",
    "plt.ylabel('frequency')\n",
    "plt.title(\" Histogram of the conservation status\")\n",
    "sp.conservation_status.value_counts().plot.bar()"
   ]
  },
  {
   "cell_type": "markdown",
   "metadata": {},
   "source": [
    "In this chart, it can be seen that most of the observations in the dataset don't have any conservation status."
   ]
  },
  {
   "cell_type": "code",
   "execution_count": 37,
   "metadata": {},
   "outputs": [
    {
     "data": {
      "text/plain": [
       "<AxesSubplot:title={'center':'Conservation status without no status'}, xlabel='conservation_status', ylabel='frequency'>"
      ]
     },
     "execution_count": 37,
     "metadata": {},
     "output_type": "execute_result"
    },
    {
     "data": {
      "image/png": "[encoded data removed]",
      "text/plain": [
       "<Figure size 720x360 with 1 Axes>"
      ]
     },
     "metadata": {
      "needs_background": "light"
     },
     "output_type": "display_data"
    }
   ],
   "source": [
    "plt.figure(figsize=(10,5))\n",
    "plt.xlabel('conservation_status')\n",
    "plt.ylabel('frequency')\n",
    "plt.title(\"Conservation status without no status\")\n",
    "sp.conservation_status[sp.conservation_status != 'no_status'].value_counts().plot.bar()"
   ]
  },
  {
   "cell_type": "markdown",
   "metadata": {},
   "source": [
    "Here is the chart showing the quantity of observations with some conservation status. The biggest group of these observations is related to species of concern."
   ]
  },
  {
   "cell_type": "code",
   "execution_count": 38,
   "metadata": {},
   "outputs": [
    {
     "data": {
      "text/plain": [
       "<AxesSubplot:title={'center':' Histogram of the categories'}, xlabel='category', ylabel='frequency'>"
      ]
     },
     "execution_count": 38,
     "metadata": {},
     "output_type": "execute_result"
    },
    {
     "data": {
      "image/png": "[encoded data removed]",
      "text/plain": [
       "<Figure size 720x360 with 1 Axes>"
      ]
     },
     "metadata": {
      "needs_background": "light"
     },
     "output_type": "display_data"
    }
   ],
   "source": [
    "plt.figure(figsize=(10,5))\n",
    "plt.xlabel('category')\n",
    "plt.ylabel('frequency')\n",
    "plt.title(\" Histogram of the categories\")\n",
    "sp.category[sp.conservation_status != 'no_status'].value_counts().plot.bar()"
   ]
  },
  {
   "cell_type": "markdown",
   "metadata": {},
   "source": [
    "Based on the chart we can see that the biggest category in this dataset is Vascular Plant and the smallest is Reptilie."
   ]
  },
  {
   "cell_type": "code",
   "execution_count": 39,
   "metadata": {},
   "outputs": [
    {
     "data": {
      "text/html": [
       "<div>\n",
       "<style scoped>\n",
       "    .dataframe tbody tr th:only-of-type {\n",
       "        vertical-align: middle;\n",
       "    }\n",
       "\n",
       "    .dataframe tbody tr th {\n",
       "        vertical-align: top;\n",
       "    }\n",
       "\n",
       "    .dataframe thead th {\n",
       "        text-align: right;\n",
       "    }\n",
       "</style>\n",
       "<table border=\"1\" class=\"dataframe\">\n",
       "  <thead>\n",
       "    <tr style=\"text-align: right;\">\n",
       "      <th></th>\n",
       "      <th>conservation_status</th>\n",
       "      <th>category</th>\n",
       "      <th>number</th>\n",
       "    </tr>\n",
       "  </thead>\n",
       "  <tbody>\n",
       "    <tr>\n",
       "      <th>0</th>\n",
       "      <td>Endangered</td>\n",
       "      <td>Amphibian</td>\n",
       "      <td>1</td>\n",
       "    </tr>\n",
       "    <tr>\n",
       "      <th>1</th>\n",
       "      <td>Endangered</td>\n",
       "      <td>Bird</td>\n",
       "      <td>4</td>\n",
       "    </tr>\n",
       "    <tr>\n",
       "      <th>2</th>\n",
       "      <td>Endangered</td>\n",
       "      <td>Fish</td>\n",
       "      <td>3</td>\n",
       "    </tr>\n",
       "    <tr>\n",
       "      <th>3</th>\n",
       "      <td>Endangered</td>\n",
       "      <td>Mammal</td>\n",
       "      <td>6</td>\n",
       "    </tr>\n",
       "    <tr>\n",
       "      <th>4</th>\n",
       "      <td>Endangered</td>\n",
       "      <td>Vascular Plant</td>\n",
       "      <td>1</td>\n",
       "    </tr>\n",
       "    <tr>\n",
       "      <th>5</th>\n",
       "      <td>In Recovery</td>\n",
       "      <td>Bird</td>\n",
       "      <td>3</td>\n",
       "    </tr>\n",
       "    <tr>\n",
       "      <th>6</th>\n",
       "      <td>In Recovery</td>\n",
       "      <td>Mammal</td>\n",
       "      <td>1</td>\n",
       "    </tr>\n",
       "    <tr>\n",
       "      <th>7</th>\n",
       "      <td>Species of Concern</td>\n",
       "      <td>Amphibian</td>\n",
       "      <td>4</td>\n",
       "    </tr>\n",
       "    <tr>\n",
       "      <th>8</th>\n",
       "      <td>Species of Concern</td>\n",
       "      <td>Bird</td>\n",
       "      <td>68</td>\n",
       "    </tr>\n",
       "    <tr>\n",
       "      <th>9</th>\n",
       "      <td>Species of Concern</td>\n",
       "      <td>Fish</td>\n",
       "      <td>4</td>\n",
       "    </tr>\n",
       "    <tr>\n",
       "      <th>10</th>\n",
       "      <td>Species of Concern</td>\n",
       "      <td>Mammal</td>\n",
       "      <td>22</td>\n",
       "    </tr>\n",
       "    <tr>\n",
       "      <th>11</th>\n",
       "      <td>Species of Concern</td>\n",
       "      <td>Nonvascular Plant</td>\n",
       "      <td>5</td>\n",
       "    </tr>\n",
       "    <tr>\n",
       "      <th>12</th>\n",
       "      <td>Species of Concern</td>\n",
       "      <td>Reptile</td>\n",
       "      <td>5</td>\n",
       "    </tr>\n",
       "    <tr>\n",
       "      <th>13</th>\n",
       "      <td>Species of Concern</td>\n",
       "      <td>Vascular Plant</td>\n",
       "      <td>43</td>\n",
       "    </tr>\n",
       "    <tr>\n",
       "      <th>14</th>\n",
       "      <td>Threatened</td>\n",
       "      <td>Amphibian</td>\n",
       "      <td>2</td>\n",
       "    </tr>\n",
       "    <tr>\n",
       "      <th>15</th>\n",
       "      <td>Threatened</td>\n",
       "      <td>Fish</td>\n",
       "      <td>4</td>\n",
       "    </tr>\n",
       "    <tr>\n",
       "      <th>16</th>\n",
       "      <td>Threatened</td>\n",
       "      <td>Mammal</td>\n",
       "      <td>2</td>\n",
       "    </tr>\n",
       "    <tr>\n",
       "      <th>17</th>\n",
       "      <td>Threatened</td>\n",
       "      <td>Vascular Plant</td>\n",
       "      <td>2</td>\n",
       "    </tr>\n",
       "  </tbody>\n",
       "</table>\n",
       "</div>"
      ],
      "text/plain": [
       "   conservation_status           category  number\n",
       "0           Endangered          Amphibian       1\n",
       "1           Endangered               Bird       4\n",
       "2           Endangered               Fish       3\n",
       "3           Endangered             Mammal       6\n",
       "4           Endangered     Vascular Plant       1\n",
       "5          In Recovery               Bird       3\n",
       "6          In Recovery             Mammal       1\n",
       "7   Species of Concern          Amphibian       4\n",
       "8   Species of Concern               Bird      68\n",
       "9   Species of Concern               Fish       4\n",
       "10  Species of Concern             Mammal      22\n",
       "11  Species of Concern  Nonvascular Plant       5\n",
       "12  Species of Concern            Reptile       5\n",
       "13  Species of Concern     Vascular Plant      43\n",
       "14          Threatened          Amphibian       2\n",
       "15          Threatened               Fish       4\n",
       "16          Threatened             Mammal       2\n",
       "17          Threatened     Vascular Plant       2"
      ]
     },
     "execution_count": 39,
     "metadata": {},
     "output_type": "execute_result"
    }
   ],
   "source": [
    "conservation_category = sp[sp.conservation_status != \"no_status\"]\\\n",
    "    .groupby([\"conservation_status\", \"category\"]).agg(number=('scientific_name', 'nunique'))\n",
    "conservation_category = pd.DataFrame(conservation_category)\n",
    "conservation_category.reset_index(inplace=True)\n",
    "conservation_category"
   ]
  },
  {
   "cell_type": "code",
   "execution_count": 40,
   "metadata": {},
   "outputs": [
    {
     "data": {
      "text/plain": [
       "<AxesSubplot:xlabel='conservation_status', ylabel='number'>"
      ]
     },
     "execution_count": 40,
     "metadata": {},
     "output_type": "execute_result"
    },
    {
     "data": {
      "image/png": "[encoded data removed]",
      "text/plain": [
       "<Figure size 720x432 with 1 Axes>"
      ]
     },
     "metadata": {
      "needs_background": "light"
     },
     "output_type": "display_data"
    }
   ],
   "source": [
    "plt.figure(figsize= (10, 6))\n",
    "sns.barplot(x='conservation_status', y ='number', hue='category', data=conservation_category, palette= 'Accent_r' )\n"
   ]
  },
  {
   "cell_type": "markdown",
   "metadata": {},
   "source": [
    "This chart shows the number of observations for each conservation status and category. All categories are presented only in the Species of Concern intervention status, and the smallest number of categories are in recovery conservation status. \n",
    "Mammals are the only category that appears in every conservation status."
   ]
  },
  {
   "cell_type": "code",
   "execution_count": 41,
   "metadata": {},
   "outputs": [
    {
     "data": {
      "text/html": [
       "<div>\n",
       "<style scoped>\n",
       "    .dataframe tbody tr th:only-of-type {\n",
       "        vertical-align: middle;\n",
       "    }\n",
       "\n",
       "    .dataframe tbody tr th {\n",
       "        vertical-align: top;\n",
       "    }\n",
       "\n",
       "    .dataframe thead th {\n",
       "        text-align: right;\n",
       "    }\n",
       "</style>\n",
       "<table border=\"1\" class=\"dataframe\">\n",
       "  <thead>\n",
       "    <tr style=\"text-align: right;\">\n",
       "      <th></th>\n",
       "      <th>category</th>\n",
       "      <th>scientific_name</th>\n",
       "      <th>common_names</th>\n",
       "      <th>conservation_status</th>\n",
       "      <th>no_conservate</th>\n",
       "    </tr>\n",
       "  </thead>\n",
       "  <tbody>\n",
       "    <tr>\n",
       "      <th>0</th>\n",
       "      <td>Mammal</td>\n",
       "      <td>Clethrionomys gapperi gapperi</td>\n",
       "      <td>Gapper's Red-Backed Vole</td>\n",
       "      <td>no_status</td>\n",
       "      <td>True</td>\n",
       "    </tr>\n",
       "    <tr>\n",
       "      <th>1</th>\n",
       "      <td>Mammal</td>\n",
       "      <td>Bos bison</td>\n",
       "      <td>American Bison, Bison</td>\n",
       "      <td>no_status</td>\n",
       "      <td>True</td>\n",
       "    </tr>\n",
       "    <tr>\n",
       "      <th>2</th>\n",
       "      <td>Mammal</td>\n",
       "      <td>Bos taurus</td>\n",
       "      <td>Aurochs, Aurochs, Domestic Cattle (Feral), Dom...</td>\n",
       "      <td>no_status</td>\n",
       "      <td>True</td>\n",
       "    </tr>\n",
       "    <tr>\n",
       "      <th>3</th>\n",
       "      <td>Mammal</td>\n",
       "      <td>Ovis aries</td>\n",
       "      <td>Domestic Sheep, Mouflon, Red Sheep, Sheep (Feral)</td>\n",
       "      <td>no_status</td>\n",
       "      <td>True</td>\n",
       "    </tr>\n",
       "    <tr>\n",
       "      <th>4</th>\n",
       "      <td>Mammal</td>\n",
       "      <td>Cervus elaphus</td>\n",
       "      <td>Wapiti Or Elk</td>\n",
       "      <td>no_status</td>\n",
       "      <td>True</td>\n",
       "    </tr>\n",
       "  </tbody>\n",
       "</table>\n",
       "</div>"
      ],
      "text/plain": [
       "  category                scientific_name  \\\n",
       "0   Mammal  Clethrionomys gapperi gapperi   \n",
       "1   Mammal                      Bos bison   \n",
       "2   Mammal                     Bos taurus   \n",
       "3   Mammal                     Ovis aries   \n",
       "4   Mammal                 Cervus elaphus   \n",
       "\n",
       "                                        common_names conservation_status  \\\n",
       "0                           Gapper's Red-Backed Vole           no_status   \n",
       "1                              American Bison, Bison           no_status   \n",
       "2  Aurochs, Aurochs, Domestic Cattle (Feral), Dom...           no_status   \n",
       "3  Domestic Sheep, Mouflon, Red Sheep, Sheep (Feral)           no_status   \n",
       "4                                      Wapiti Or Elk           no_status   \n",
       "\n",
       "   no_conservate  \n",
       "0           True  \n",
       "1           True  \n",
       "2           True  \n",
       "3           True  \n",
       "4           True  "
      ]
     },
     "execution_count": 41,
     "metadata": {},
     "output_type": "execute_result"
    }
   ],
   "source": [
    "sp['no_conservate']= (sp.conservation_status == 'no_status')\n",
    "sp.head()"
   ]
  },
  {
   "cell_type": "code",
   "execution_count": 42,
   "metadata": {},
   "outputs": [
    {
     "data": {
      "text/html": [
       "<div>\n",
       "<style scoped>\n",
       "    .dataframe tbody tr th:only-of-type {\n",
       "        vertical-align: middle;\n",
       "    }\n",
       "\n",
       "    .dataframe tbody tr th {\n",
       "        vertical-align: top;\n",
       "    }\n",
       "\n",
       "    .dataframe thead th {\n",
       "        text-align: right;\n",
       "    }\n",
       "</style>\n",
       "<table border=\"1\" class=\"dataframe\">\n",
       "  <thead>\n",
       "    <tr style=\"text-align: right;\">\n",
       "      <th></th>\n",
       "      <th>category</th>\n",
       "      <th>no_conservate</th>\n",
       "      <th>number</th>\n",
       "    </tr>\n",
       "  </thead>\n",
       "  <tbody>\n",
       "    <tr>\n",
       "      <th>0</th>\n",
       "      <td>Amphibian</td>\n",
       "      <td>False</td>\n",
       "      <td>7</td>\n",
       "    </tr>\n",
       "    <tr>\n",
       "      <th>1</th>\n",
       "      <td>Amphibian</td>\n",
       "      <td>True</td>\n",
       "      <td>72</td>\n",
       "    </tr>\n",
       "    <tr>\n",
       "      <th>2</th>\n",
       "      <td>Bird</td>\n",
       "      <td>False</td>\n",
       "      <td>75</td>\n",
       "    </tr>\n",
       "    <tr>\n",
       "      <th>3</th>\n",
       "      <td>Bird</td>\n",
       "      <td>True</td>\n",
       "      <td>413</td>\n",
       "    </tr>\n",
       "    <tr>\n",
       "      <th>4</th>\n",
       "      <td>Fish</td>\n",
       "      <td>False</td>\n",
       "      <td>11</td>\n",
       "    </tr>\n",
       "    <tr>\n",
       "      <th>5</th>\n",
       "      <td>Fish</td>\n",
       "      <td>True</td>\n",
       "      <td>115</td>\n",
       "    </tr>\n",
       "    <tr>\n",
       "      <th>6</th>\n",
       "      <td>Mammal</td>\n",
       "      <td>False</td>\n",
       "      <td>30</td>\n",
       "    </tr>\n",
       "    <tr>\n",
       "      <th>7</th>\n",
       "      <td>Mammal</td>\n",
       "      <td>True</td>\n",
       "      <td>146</td>\n",
       "    </tr>\n",
       "    <tr>\n",
       "      <th>8</th>\n",
       "      <td>Nonvascular Plant</td>\n",
       "      <td>False</td>\n",
       "      <td>5</td>\n",
       "    </tr>\n",
       "    <tr>\n",
       "      <th>9</th>\n",
       "      <td>Nonvascular Plant</td>\n",
       "      <td>True</td>\n",
       "      <td>328</td>\n",
       "    </tr>\n",
       "    <tr>\n",
       "      <th>10</th>\n",
       "      <td>Reptile</td>\n",
       "      <td>False</td>\n",
       "      <td>5</td>\n",
       "    </tr>\n",
       "    <tr>\n",
       "      <th>11</th>\n",
       "      <td>Reptile</td>\n",
       "      <td>True</td>\n",
       "      <td>73</td>\n",
       "    </tr>\n",
       "    <tr>\n",
       "      <th>12</th>\n",
       "      <td>Vascular Plant</td>\n",
       "      <td>False</td>\n",
       "      <td>46</td>\n",
       "    </tr>\n",
       "    <tr>\n",
       "      <th>13</th>\n",
       "      <td>Vascular Plant</td>\n",
       "      <td>True</td>\n",
       "      <td>4216</td>\n",
       "    </tr>\n",
       "  </tbody>\n",
       "</table>\n",
       "</div>"
      ],
      "text/plain": [
       "             category  no_conservate  number\n",
       "0           Amphibian          False       7\n",
       "1           Amphibian           True      72\n",
       "2                Bird          False      75\n",
       "3                Bird           True     413\n",
       "4                Fish          False      11\n",
       "5                Fish           True     115\n",
       "6              Mammal          False      30\n",
       "7              Mammal           True     146\n",
       "8   Nonvascular Plant          False       5\n",
       "9   Nonvascular Plant           True     328\n",
       "10            Reptile          False       5\n",
       "11            Reptile           True      73\n",
       "12     Vascular Plant          False      46\n",
       "13     Vascular Plant           True    4216"
      ]
     },
     "execution_count": 42,
     "metadata": {},
     "output_type": "execute_result"
    }
   ],
   "source": [
    "conservation_dif= sp.groupby([\"category\", \"no_conservate\"]).agg(number=('scientific_name', 'nunique'))\n",
    "conservation_dif = pd.DataFrame(conservation_dif)\n",
    "conservation_dif.reset_index(inplace=True)\n",
    "conservation_dif"
   ]
  },
  {
   "cell_type": "code",
   "execution_count": 43,
   "metadata": {},
   "outputs": [
    {
     "data": {
      "text/plain": [
       "<AxesSubplot:xlabel='category', ylabel='number'>"
      ]
     },
     "execution_count": 43,
     "metadata": {},
     "output_type": "execute_result"
    },
    {
     "data": {
      "image/png": "[encoded data removed]",
      "text/plain": [
       "<Figure size 720x432 with 1 Axes>"
      ]
     },
     "metadata": {
      "needs_background": "light"
     },
     "output_type": "display_data"
    }
   ],
   "source": [
    "plt.figure(figsize= (10, 6))\n",
    "sns.barplot(x='category', y ='number', hue='no_conservate', data=conservation_dif, palette= 'mako' )"
   ]
  },
  {
   "cell_type": "code",
   "execution_count": 44,
   "metadata": {},
   "outputs": [
    {
     "data": {
      "image/png": "[encoded data removed]",
      "text/plain": [
       "<Figure size 864x576 with 7 Axes>"
      ]
     },
     "metadata": {},
     "output_type": "display_data"
    }
   ],
   "source": [
    "categories = sp.category.unique()\n",
    "plt.figure(figsize= (12, 8))\n",
    "colors = sns.color_palette('Accent')[0:2]\n",
    "for i in range(0, len(categories)):\n",
    "    plt.subplot(2, 4, i+1)\n",
    "    plt.pie(x =conservation_dif[conservation_dif.category== categories[i]]['number'],\n",
    "                autopct='%1.1f%%', colors=colors)\n",
    "    plt.title(categories[i])"
   ]
  },
  {
   "cell_type": "markdown",
   "metadata": {},
   "source": [
    "According to these charts, we can select several groups of categories. The first is mammals and birds, because they both have the biggest percentage of observations with intervention status among other categories. The next group includes reptiles, amphibians and fishes. And the last one is plants. They have the smallest percentage of observations with conservation status."
   ]
  },
  {
   "cell_type": "markdown",
   "metadata": {},
   "source": [
    "To explore some diferenties between species and their conservation status let's take a  chi squared test"
   ]
  },
  {
   "cell_type": "code",
   "execution_count": 61,
   "metadata": {},
   "outputs": [
    {
     "name": "stdout",
     "output_type": "stream",
     "text": [
      "('Amphibian', 'Nonvascular Plant') - 0.0018\n",
      "('Amphibian', 'Vascular Plant') - 0.0000\n",
      "('Bird', 'Nonvascular Plant') - 0.0000\n",
      "('Bird', 'Vascular Plant') - 0.0000\n",
      "('Fish', 'Nonvascular Plant') - 0.0005\n",
      "('Fish', 'Vascular Plant') - 0.0000\n",
      "('Mammal', 'Nonvascular Plant') - 0.0000\n",
      "('Mammal', 'Reptile') - 0.0384\n",
      "('Mammal', 'Vascular Plant') - 0.0000\n",
      "('Nonvascular Plant', 'Amphibian') - 0.0018\n",
      "('Nonvascular Plant', 'Bird') - 0.0000\n",
      "('Nonvascular Plant', 'Fish') - 0.0005\n",
      "('Nonvascular Plant', 'Mammal') - 0.0000\n",
      "('Nonvascular Plant', 'Reptile') - 0.0336\n",
      "('Reptile', 'Mammal') - 0.0384\n",
      "('Reptile', 'Nonvascular Plant') - 0.0336\n",
      "('Reptile', 'Vascular Plant') - 0.0001\n",
      "('Vascular Plant', 'Amphibian') - 0.0000\n",
      "('Vascular Plant', 'Bird') - 0.0000\n",
      "('Vascular Plant', 'Fish') - 0.0000\n",
      "('Vascular Plant', 'Mammal') - 0.0000\n",
      "('Vascular Plant', 'Reptile') - 0.0001\n"
     ]
    }
   ],
   "source": [
    "d= {}\n",
    "for i in range(0, len(conservation_dif.category), 2):\n",
    "    for j in range(0, len(conservation_dif.category), 2):\n",
    "        if(i != j):\n",
    "            contingency1 = [[conservation_dif.number[i], conservation_dif.number[i+1]],\n",
    "                         [conservation_dif.number[j], conservation_dif.number[j+1]]]\n",
    "            ch2, pval, dof, exp = chi2_contingency(contingency1)\n",
    "            d[conservation_dif.category[i], conservation_dif.category[j]] = pval   \n",
    "for val in d:\n",
    "    if(d[val] < 0.05):\n",
    "        print('{0} - {1:1.4f}'.format(val, d[val]))"
   ]
  },
  {
   "cell_type": "markdown",
   "metadata": {},
   "source": [
    "Results of the test show that there are statistically significant differences between all plants and all animals and between mammals and reptiles. Other categorical pairs are independent. "
   ]
  },
  {
   "cell_type": "code",
   "execution_count": 28,
   "metadata": {},
   "outputs": [
    {
     "data": {
      "text/plain": [
       "0                              [Gappers, RedBacked, Vole]\n",
       "1                                [American, Bison, Bison]\n",
       "2       [Aurochs, Aurochs, Domestic, Cattle, Feral, Do...\n",
       "3       [Domestic, Sheep, Mouflon, Red, Sheep, Sheep, ...\n",
       "4                                       [Wapiti, Or, Elk]\n",
       "                              ...                        \n",
       "4610                                           [Hardhead]\n",
       "4611                             [Sacramento, Pikeminnow]\n",
       "4612                         [Lahontan, Cutthroat, Trout]\n",
       "4613                          [California, Golden, Trout]\n",
       "4614                                    [Riffle, Sculpin]\n",
       "Name: common_names, Length: 1021, dtype: object"
      ]
     },
     "execution_count": 28,
     "metadata": {},
     "output_type": "execute_result"
    }
   ],
   "source": [
    "import string\n",
    "punc = '['+string.punctuation+']'\n",
    "animals = sp[(sp.category != 'Vascular Plant') & (sp.category != 'Nonvascular Plant')]\\\n",
    "        .common_names.str.replace(punc, '', regex=True).str.split()\n",
    "animals"
   ]
  },
  {
   "cell_type": "code",
   "execution_count": 29,
   "metadata": {},
   "outputs": [
    {
     "data": {
      "text/plain": [
       "['Gappers', 'RedBacked', 'Vole', 'American', 'Bison', 'Aurochs']"
      ]
     },
     "execution_count": 29,
     "metadata": {},
     "output_type": "execute_result"
    }
   ],
   "source": [
    "clean_rows = []\n",
    "\n",
    "for item in animals:\n",
    "    item = list(dict.fromkeys(item))\n",
    "    clean_rows.append(item)\n",
    "\n",
    "clean_row = [item for sublist in clean_rows for item in sublist]   \n",
    "clean_row[:6]"
   ]
  },
  {
   "cell_type": "code",
   "execution_count": 46,
   "metadata": {
    "scrolled": true
   },
   "outputs": [
    {
     "data": {
      "text/plain": [
       "Warbler       59\n",
       "Northern      53\n",
       "Salamander    41\n",
       "Eastern       39\n",
       "American      37\n",
       "Western       31\n",
       "Common        31\n",
       "Sparrow       29\n",
       "Snake         28\n",
       "Bat           23\n",
       "Name: animal, dtype: int64"
      ]
     },
     "execution_count": 46,
     "metadata": {},
     "output_type": "execute_result"
    }
   ],
   "source": [
    "animals_data = pd.DataFrame(data= clean_row, columns = ['animal'])\n",
    "animals_number = animals_data.animal.value_counts().sort_values(ascending = False)\n",
    "animals_number.head(10)"
   ]
  },
  {
   "cell_type": "markdown",
   "metadata": {},
   "source": [
    "Here are the ten most popular words in animal common names. There are some animals' titles and additional words like Western, common and others. So the most popular animals are Warbler, Salamander, Sparrow, Snake and Bat."
   ]
  },
  {
   "cell_type": "code",
   "execution_count": 51,
   "metadata": {},
   "outputs": [
    {
     "data": {
      "text/html": [
       "<div>\n",
       "<style scoped>\n",
       "    .dataframe tbody tr th:only-of-type {\n",
       "        vertical-align: middle;\n",
       "    }\n",
       "\n",
       "    .dataframe tbody tr th {\n",
       "        vertical-align: top;\n",
       "    }\n",
       "\n",
       "    .dataframe thead th {\n",
       "        text-align: right;\n",
       "    }\n",
       "</style>\n",
       "<table border=\"1\" class=\"dataframe\">\n",
       "  <thead>\n",
       "    <tr style=\"text-align: right;\">\n",
       "      <th></th>\n",
       "      <th>scientific_name</th>\n",
       "      <th>park_name</th>\n",
       "      <th>observations</th>\n",
       "      <th>category</th>\n",
       "      <th>common_names</th>\n",
       "      <th>conservation_status</th>\n",
       "      <th>no_conservate</th>\n",
       "      <th>is_warbler</th>\n",
       "    </tr>\n",
       "  </thead>\n",
       "  <tbody>\n",
       "    <tr>\n",
       "      <th>0</th>\n",
       "      <td>Vermivora celata</td>\n",
       "      <td>Yosemite National Park</td>\n",
       "      <td>106</td>\n",
       "      <td>Bird</td>\n",
       "      <td>Orange-Crowned Warbler</td>\n",
       "      <td>no_status</td>\n",
       "      <td>True</td>\n",
       "      <td>True</td>\n",
       "    </tr>\n",
       "    <tr>\n",
       "      <th>1</th>\n",
       "      <td>Vermivora celata</td>\n",
       "      <td>Great Smoky Mountains National Park</td>\n",
       "      <td>76</td>\n",
       "      <td>Bird</td>\n",
       "      <td>Orange-Crowned Warbler</td>\n",
       "      <td>no_status</td>\n",
       "      <td>True</td>\n",
       "      <td>True</td>\n",
       "    </tr>\n",
       "    <tr>\n",
       "      <th>2</th>\n",
       "      <td>Vermivora celata</td>\n",
       "      <td>Yellowstone National Park</td>\n",
       "      <td>281</td>\n",
       "      <td>Bird</td>\n",
       "      <td>Orange-Crowned Warbler</td>\n",
       "      <td>no_status</td>\n",
       "      <td>True</td>\n",
       "      <td>True</td>\n",
       "    </tr>\n",
       "    <tr>\n",
       "      <th>3</th>\n",
       "      <td>Vermivora celata</td>\n",
       "      <td>Bryce National Park</td>\n",
       "      <td>121</td>\n",
       "      <td>Bird</td>\n",
       "      <td>Orange-Crowned Warbler</td>\n",
       "      <td>no_status</td>\n",
       "      <td>True</td>\n",
       "      <td>True</td>\n",
       "    </tr>\n",
       "    <tr>\n",
       "      <th>4</th>\n",
       "      <td>Setophaga dominica</td>\n",
       "      <td>Yosemite National Park</td>\n",
       "      <td>140</td>\n",
       "      <td>Bird</td>\n",
       "      <td>Yellow-Throated Warbler</td>\n",
       "      <td>no_status</td>\n",
       "      <td>True</td>\n",
       "      <td>True</td>\n",
       "    </tr>\n",
       "    <tr>\n",
       "      <th>...</th>\n",
       "      <td>...</td>\n",
       "      <td>...</td>\n",
       "      <td>...</td>\n",
       "      <td>...</td>\n",
       "      <td>...</td>\n",
       "      <td>...</td>\n",
       "      <td>...</td>\n",
       "      <td>...</td>\n",
       "    </tr>\n",
       "    <tr>\n",
       "      <th>231</th>\n",
       "      <td>Oreothlypis virginiae</td>\n",
       "      <td>Bryce National Park</td>\n",
       "      <td>84</td>\n",
       "      <td>Bird</td>\n",
       "      <td>Virginia's Warbler</td>\n",
       "      <td>no_status</td>\n",
       "      <td>True</td>\n",
       "      <td>True</td>\n",
       "    </tr>\n",
       "    <tr>\n",
       "      <th>232</th>\n",
       "      <td>Setophaga petechia</td>\n",
       "      <td>Great Smoky Mountains National Park</td>\n",
       "      <td>82</td>\n",
       "      <td>Bird</td>\n",
       "      <td>Yellow Warbler</td>\n",
       "      <td>no_status</td>\n",
       "      <td>True</td>\n",
       "      <td>True</td>\n",
       "    </tr>\n",
       "    <tr>\n",
       "      <th>233</th>\n",
       "      <td>Setophaga petechia</td>\n",
       "      <td>Yellowstone National Park</td>\n",
       "      <td>245</td>\n",
       "      <td>Bird</td>\n",
       "      <td>Yellow Warbler</td>\n",
       "      <td>no_status</td>\n",
       "      <td>True</td>\n",
       "      <td>True</td>\n",
       "    </tr>\n",
       "    <tr>\n",
       "      <th>234</th>\n",
       "      <td>Setophaga petechia</td>\n",
       "      <td>Bryce National Park</td>\n",
       "      <td>134</td>\n",
       "      <td>Bird</td>\n",
       "      <td>Yellow Warbler</td>\n",
       "      <td>no_status</td>\n",
       "      <td>True</td>\n",
       "      <td>True</td>\n",
       "    </tr>\n",
       "    <tr>\n",
       "      <th>235</th>\n",
       "      <td>Setophaga petechia</td>\n",
       "      <td>Yosemite National Park</td>\n",
       "      <td>166</td>\n",
       "      <td>Bird</td>\n",
       "      <td>Yellow Warbler</td>\n",
       "      <td>no_status</td>\n",
       "      <td>True</td>\n",
       "      <td>True</td>\n",
       "    </tr>\n",
       "  </tbody>\n",
       "</table>\n",
       "<p>236 rows × 8 columns</p>\n",
       "</div>"
      ],
      "text/plain": [
       "           scientific_name                            park_name  observations  \\\n",
       "0         Vermivora celata               Yosemite National Park           106   \n",
       "1         Vermivora celata  Great Smoky Mountains National Park            76   \n",
       "2         Vermivora celata            Yellowstone National Park           281   \n",
       "3         Vermivora celata                  Bryce National Park           121   \n",
       "4       Setophaga dominica               Yosemite National Park           140   \n",
       "..                     ...                                  ...           ...   \n",
       "231  Oreothlypis virginiae                  Bryce National Park            84   \n",
       "232     Setophaga petechia  Great Smoky Mountains National Park            82   \n",
       "233     Setophaga petechia            Yellowstone National Park           245   \n",
       "234     Setophaga petechia                  Bryce National Park           134   \n",
       "235     Setophaga petechia               Yosemite National Park           166   \n",
       "\n",
       "    category             common_names conservation_status  no_conservate  \\\n",
       "0       Bird   Orange-Crowned Warbler           no_status           True   \n",
       "1       Bird   Orange-Crowned Warbler           no_status           True   \n",
       "2       Bird   Orange-Crowned Warbler           no_status           True   \n",
       "3       Bird   Orange-Crowned Warbler           no_status           True   \n",
       "4       Bird  Yellow-Throated Warbler           no_status           True   \n",
       "..       ...                      ...                 ...            ...   \n",
       "231     Bird       Virginia's Warbler           no_status           True   \n",
       "232     Bird           Yellow Warbler           no_status           True   \n",
       "233     Bird           Yellow Warbler           no_status           True   \n",
       "234     Bird           Yellow Warbler           no_status           True   \n",
       "235     Bird           Yellow Warbler           no_status           True   \n",
       "\n",
       "     is_warbler  \n",
       "0          True  \n",
       "1          True  \n",
       "2          True  \n",
       "3          True  \n",
       "4          True  \n",
       "..          ...  \n",
       "231        True  \n",
       "232        True  \n",
       "233        True  \n",
       "234        True  \n",
       "235        True  \n",
       "\n",
       "[236 rows x 8 columns]"
      ]
     },
     "execution_count": 51,
     "metadata": {},
     "output_type": "execute_result"
    }
   ],
   "source": [
    "sp['is_warbler'] = sp.common_names.str.contains(r\"\\bWarbler\\b\", regex = True)\n",
    "\n",
    "warb_df=pd.merge(obs, sp[sp.is_warbler==True]) \n",
    "warb_df"
   ]
  },
  {
   "cell_type": "code",
   "execution_count": 60,
   "metadata": {},
   "outputs": [
    {
     "data": {
      "text/plain": [
       "(array([0, 1, 2, 3]),\n",
       " [Text(0, 0, 'Yosemite National Park'),\n",
       "  Text(1, 0, 'Great Smoky Mountains National Park'),\n",
       "  Text(2, 0, 'Yellowstone National Park'),\n",
       "  Text(3, 0, 'Bryce National Park')])"
      ]
     },
     "execution_count": 60,
     "metadata": {},
     "output_type": "execute_result"
    },
    {
     "data": {
      "image/png": "[encoded data removed]",
      "text/plain": [
       "<Figure size 720x432 with 1 Axes>"
      ]
     },
     "metadata": {
      "needs_background": "light"
     },
     "output_type": "display_data"
    }
   ],
   "source": [
    "plt.figure(figsize= (10, 6))\n",
    "sns.barplot(x='park_name', y ='observations', hue='no_conservate', data=warb_df, estimator=sum, palette= 'mako' )\n",
    "plt.xticks(rotation=30)"
   ]
  },
  {
   "cell_type": "markdown",
   "metadata": {},
   "source": [
    "There is a barplot about warblers in different parks and their conservation status."
   ]
  },
  {
   "cell_type": "markdown",
   "metadata": {},
   "source": [
    "- What is the distribution of conservation status for species?\n",
    "\n",
    "        The vast majority of species were not part of conservation.(5,633 vs 191)\n",
    "\n",
    "- Are certain types of species more likely to be endangered?\n",
    "\n",
    "        Mammals and birds have the biggest amount of endangered species. \n",
    "\n",
    "- Are the differences between species and their conservation status significant?\n",
    "\n",
    "        The difference between plants and animals is significant and the difference between mammals and reptiles is too. \n",
    "\n",
    "- Which animal is most prevalent and what is their distribution among parks?\n",
    "\n",
    "            The most prevalent animal is a warbler and the park with the biggest amount of birds is in Yellowstone National Park. The smallest number of observations of these birds is in Great Smoky Mountains National Park."
   ]
  },
  {
   "cell_type": "code",
   "execution_count": null,
   "metadata": {},
   "outputs": [],
   "source": []
  }
 ],
 "metadata": {
  "kernelspec": {
   "display_name": "Python 3 (ipykernel)",
   "language": "python",
   "name": "python3"
  },
  "language_info": {
   "codemirror_mode": {
    "name": "ipython",
    "version": 3
   },
   "file_extension": ".py",
   "mimetype": "text/x-python",
   "name": "python",
   "nbconvert_exporter": "python",
   "pygments_lexer": "ipython3",
   "version": "3.9.12"
  }
 },
 "nbformat": 4,
 "nbformat_minor": 4
}
